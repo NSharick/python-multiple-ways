{
 "cells": [
  {
   "cell_type": "markdown",
   "id": "28a5b62a",
   "metadata": {},
   "source": [
    "Python Multiple Ways\n"
   ]
  },
  {
   "cell_type": "code",
   "execution_count": 1,
   "id": "c469a3b5",
   "metadata": {},
   "outputs": [],
   "source": [
    "#imports\n",
    "import numpy as np\n",
    "import pandas as pd"
   ]
  },
  {
   "cell_type": "code",
   "execution_count": 2,
   "id": "2958cda6",
   "metadata": {},
   "outputs": [],
   "source": [
    "#lists\n",
    "\n",
    "fruits = ['mango', 'kiwi', 'strawberry', 'guava', 'pineapple', 'mandarin orange']\n",
    "numbers = [2, 3, 4, 5, 6, 7, 8, 9, 10, 11, 13, 17, 19, 23, 256, -8, -4, -2, 5, -9]\n",
    "\n"
   ]
  },
  {
   "cell_type": "code",
   "execution_count": 3,
   "id": "ce6281ed",
   "metadata": {},
   "outputs": [],
   "source": [
    "#matching numpy arrays\n",
    "f = np.array(['mango', 'kiwi', 'strawberry', 'guava', 'pineapple', 'mandarin orange'])\n",
    "x = np.array([2, 3, 4, 5, 6, 7, 8, 9, 10, 11, 13, 17, 19, 23, 256, -8, -4, -2, 5, -9])\n",
    "\n"
   ]
  },
  {
   "cell_type": "code",
   "execution_count": 5,
   "id": "4272aca9",
   "metadata": {},
   "outputs": [
    {
     "name": "stdout",
     "output_type": "stream",
     "text": [
      "[3, 4, 5, 6, 7, 8, 9, 10, 11, 12, 14, 18, 20, 24, 257, -7, -3, -1, 6, -8]\n",
      "[3, 4, 5, 6, 7, 8, 9, 10, 11, 12, 14, 18, 20, 24, 257, -7, -3, -1, 6, -8]\n"
     ]
    },
    {
     "data": {
      "text/plain": [
       "[3, 4, 5, 6, 7, 8, 9, 10, 11, 12, 14, 18, 20, 24, 257, -7, -3, -1, 6, -8]"
      ]
     },
     "execution_count": 5,
     "metadata": {},
     "output_type": "execute_result"
    }
   ],
   "source": [
    "##return numbers in the list + 1##\n",
    "\n",
    "#list comp\n",
    "numbers_plus_one_a = [number + 1 for number in numbers]\n",
    "print(numbers_plus_one_a)\n",
    "\n",
    "\n",
    "#loop\n",
    "numbers_plus_one_b = []\n",
    "for number in numbers:\n",
    "    numbers_plus_one_b.append(number + 1)\n",
    "print(numbers_plus_one_b)\n",
    "\n",
    "\n",
    "#numpy\n",
    "list(x + 1)\n"
   ]
  },
  {
   "cell_type": "code",
   "execution_count": 6,
   "id": "cc5fef02",
   "metadata": {},
   "outputs": [
    {
     "name": "stdout",
     "output_type": "stream",
     "text": [
      "['MANGO', 'KIWI', 'STRAWBERRY', 'GUAVA', 'PINEAPPLE', 'MANDARIN ORANGE']\n",
      "['MANGO', 'KIWI', 'STRAWBERRY', 'GUAVA', 'PINEAPPLE', 'MANDARIN ORANGE']\n"
     ]
    },
    {
     "data": {
      "text/plain": [
       "['MANGO', 'KIWI', 'STRAWBERRY', 'GUAVA', 'PINEAPPLE', 'MANDARIN ORANGE']"
      ]
     },
     "execution_count": 6,
     "metadata": {},
     "output_type": "execute_result"
    }
   ],
   "source": [
    "##list all of the fruits in the list with all uppercase letters##\n",
    "\n",
    "#list comprehension\n",
    "uppercase_fruits = [fruit.upper() for fruit in fruits]\n",
    "print(uppercase_fruits)\n",
    "\n",
    "#loop\n",
    "output = []\n",
    "for fruit in fruits:\n",
    "    output.append(fruit.upper())\n",
    "print(output)\n",
    "\n",
    "#numpy\n",
    "list(np.char.upper(f))\n"
   ]
  },
  {
   "cell_type": "code",
   "execution_count": 7,
   "id": "0bd7e800",
   "metadata": {},
   "outputs": [
    {
     "name": "stdout",
     "output_type": "stream",
     "text": [
      "['strawberry', 'pineapple', 'mandarin orange']\n",
      "['strawberry', 'pineapple', 'mandarin orange']\n"
     ]
    },
    {
     "data": {
      "text/plain": [
       "['strawberry', 'pineapple', 'mandarin orange']"
      ]
     },
     "execution_count": 7,
     "metadata": {},
     "output_type": "execute_result"
    }
   ],
   "source": [
    "##return fruits from the list whose name has more than 5 characters##\n",
    "\n",
    "#list comprehension\n",
    "fruit_w_more_than_5_char = [fruit for fruit in fruits if len(fruit) > 5]\n",
    "print(fruit_w_more_than_5_char)\n",
    "\n",
    "#loop\n",
    "fruit_5 = []\n",
    "for fruit in fruits:\n",
    "    if len(fruit) > 5:\n",
    "        fruit_5.append(fruit)\n",
    "print(fruit_5)\n",
    "\n",
    "#numpy\n",
    "list(f[np.char.str_len(f) > 5])\n"
   ]
  },
  {
   "cell_type": "code",
   "execution_count": 8,
   "id": "bbea2c58",
   "metadata": {},
   "outputs": [
    {
     "name": "stdout",
     "output_type": "stream",
     "text": [
      "['mango', 'guava']\n",
      "['mango', 'guava']\n"
     ]
    },
    {
     "data": {
      "text/plain": [
       "['mango', 'guava']"
      ]
     },
     "execution_count": 8,
     "metadata": {},
     "output_type": "execute_result"
    }
   ],
   "source": [
    "##returns fruits from the list with exactly 5 characters##\n",
    "\n",
    "#list comp\n",
    "fruit_w_5_char = [fruit for fruit in fruits if len(fruit) == 5]\n",
    "print(fruit_w_5_char)\n",
    "\n",
    "#loop\n",
    "fruit_w_5 = []\n",
    "for fruit in fruits:\n",
    "    if len(fruit) == 5:\n",
    "        fruit_w_5.append(fruit)\n",
    "print(fruit_w_5)\n",
    "\n",
    "#numpy\n",
    "list(f[np.char.str_len(f) == 5])\n"
   ]
  },
  {
   "cell_type": "code",
   "execution_count": 9,
   "id": "6f434ea6",
   "metadata": {},
   "outputs": [
    {
     "name": "stdout",
     "output_type": "stream",
     "text": [
      "['kiwi']\n",
      "['kiwi']\n"
     ]
    },
    {
     "data": {
      "text/plain": [
       "['kiwi']"
      ]
     },
     "execution_count": 9,
     "metadata": {},
     "output_type": "execute_result"
    }
   ],
   "source": [
    "##return fruits from the list with less than 5 characters##\n",
    "\n",
    "#list comp\n",
    "fruit_w_less_than_5_char = [fruit for fruit in fruits if len(fruit) < 5]\n",
    "print(fruit_w_less_than_5_char)\n",
    "\n",
    "#loop\n",
    "fruit_less_5 = []\n",
    "for fruit in fruits:\n",
    "    if len(fruit) < 5:\n",
    "        fruit_less_5.append(fruit)\n",
    "print(fruit_less_5)\n",
    "\n",
    "#numpy\n",
    "list(f[np.char.str_len(f) < 5])\n"
   ]
  },
  {
   "cell_type": "code",
   "execution_count": 10,
   "id": "c1b78e6e",
   "metadata": {},
   "outputs": [
    {
     "name": "stdout",
     "output_type": "stream",
     "text": [
      "[5, 4, 10, 5, 9, 15]\n",
      "[5, 4, 10, 5, 9, 15]\n"
     ]
    },
    {
     "data": {
      "text/plain": [
       "[5, 4, 10, 5, 9, 15]"
      ]
     },
     "execution_count": 10,
     "metadata": {},
     "output_type": "execute_result"
    }
   ],
   "source": [
    "##return the length of the fruit name strings in the list##\n",
    "\n",
    "#list comp\n",
    "fruit_length = [len(fruit) for fruit in fruits]\n",
    "print(fruit_length)\n",
    "\n",
    "#loop\n",
    "fruit_length = []\n",
    "for fruit in fruits:\n",
    "    fruit_length.append(len(fruit))\n",
    "print(fruit_length)\n",
    "\n",
    "#numpy\n",
    "list(np.char.str_len(f))"
   ]
  },
  {
   "cell_type": "code",
   "execution_count": 13,
   "id": "861767b7",
   "metadata": {},
   "outputs": [
    {
     "name": "stdout",
     "output_type": "stream",
     "text": [
      "['mango', 'strawberry', 'guava', 'pineapple', 'mandarin orange']\n",
      "['mango', 'strawberry', 'guava', 'pineapple', 'mandarin orange']\n"
     ]
    }
   ],
   "source": [
    "##return fruits from the list with an 'a' in their name##\n",
    "\n",
    "#list comp\n",
    "fruit_with_letter_a = [fruit for fruit in fruits if 'a' in fruit]\n",
    "print(fruit_with_letter_a)\n",
    "\n",
    "#loop\n",
    "fruit_with_a = []\n",
    "for fruit in fruits:\n",
    "    if 'a' in fruit:\n",
    "        fruit_with_a.append(fruit)\n",
    "print(fruit_with_a)\n",
    "        \n",
    "#numpy\n",
    "#f[f.str.contains('a', regex=False)]\n"
   ]
  },
  {
   "cell_type": "code",
   "execution_count": 16,
   "id": "b5fb58ba",
   "metadata": {},
   "outputs": [
    {
     "name": "stdout",
     "output_type": "stream",
     "text": [
      "[2, 4, 6, 8, 10, 256, -8, -4, -2]\n",
      "[2, 4, 6, 8, 10, 256, -8, -4, -2]\n"
     ]
    },
    {
     "data": {
      "text/plain": [
       "[2, 4, 6, 8, 10, 256, -8, -4, -2]"
      ]
     },
     "execution_count": 16,
     "metadata": {},
     "output_type": "execute_result"
    }
   ],
   "source": [
    "##return even numbers from the list##\n",
    "\n",
    "#list comp\n",
    "even_numbers = [number for number in numbers if number % 2 == 0]\n",
    "print(even_numbers)\n",
    "\n",
    "#loop\n",
    "e_num = []\n",
    "for n in numbers:\n",
    "    if n % 2 == 0:\n",
    "        e_num.append(n)\n",
    "print(e_num)\n",
    "\n",
    "#numpy\n",
    "list(x[x % 2 == 0])"
   ]
  },
  {
   "cell_type": "code",
   "execution_count": 17,
   "id": "f736e2a7",
   "metadata": {},
   "outputs": [
    {
     "name": "stdout",
     "output_type": "stream",
     "text": [
      "[3, 5, 7, 9, 11, 13, 17, 19, 23, 5, -9]\n",
      "[3, 5, 7, 9, 11, 13, 17, 19, 23, 5, -9]\n"
     ]
    },
    {
     "data": {
      "text/plain": [
       "[3, 5, 7, 9, 11, 13, 17, 19, 23, 5, -9]"
      ]
     },
     "execution_count": 17,
     "metadata": {},
     "output_type": "execute_result"
    }
   ],
   "source": [
    "##return odd numbers from the list##\n",
    "\n",
    "#list comp\n",
    "odd_numbers = [number for number in numbers if number % 2 !=0]\n",
    "print(odd_numbers)\n",
    "\n",
    "#loop\n",
    "o_num = []\n",
    "for n in numbers:\n",
    "    if n % 2 != 0:\n",
    "        o_num.append(n)\n",
    "print(o_num)\n",
    "\n",
    "#numpy\n",
    "list(x[x % 2 != 0])"
   ]
  },
  {
   "cell_type": "code",
   "execution_count": 18,
   "id": "4a45b75b",
   "metadata": {},
   "outputs": [
    {
     "name": "stdout",
     "output_type": "stream",
     "text": [
      "[2, 3, 4, 5, 6, 7, 8, 9, 10, 11, 13, 17, 19, 23, 256, 5]\n",
      "[2, 3, 4, 5, 6, 7, 8, 9, 10, 11, 13, 17, 19, 23, 256, 5]\n"
     ]
    },
    {
     "data": {
      "text/plain": [
       "[2, 3, 4, 5, 6, 7, 8, 9, 10, 11, 13, 17, 19, 23, 256, 5]"
      ]
     },
     "execution_count": 18,
     "metadata": {},
     "output_type": "execute_result"
    }
   ],
   "source": [
    "##return positive numbers from the list##\n",
    "\n",
    "#list comp\n",
    "positive_numbers = [number for number in numbers if number > 0]\n",
    "print(positive_numbers)\n",
    "\n",
    "#loop\n",
    "pos_num = []\n",
    "for n in numbers:\n",
    "    if n > 0:\n",
    "        pos_num.append(n)\n",
    "print(pos_num)\n",
    "\n",
    "#numpy\n",
    "list(x[x > 0])"
   ]
  },
  {
   "cell_type": "code",
   "execution_count": 19,
   "id": "44a00a67",
   "metadata": {},
   "outputs": [
    {
     "name": "stdout",
     "output_type": "stream",
     "text": [
      "[-8, -4, -2, -9]\n",
      "[-8, -4, -2, -9]\n"
     ]
    },
    {
     "data": {
      "text/plain": [
       "[-8, -4, -2, -9]"
      ]
     },
     "execution_count": 19,
     "metadata": {},
     "output_type": "execute_result"
    }
   ],
   "source": [
    "##return negative numbers from the list##\n",
    "\n",
    "#list comp\n",
    "negative_numbers = [number for number in numbers if number < 0]\n",
    "print(negative_numbers)\n",
    "\n",
    "#loop\n",
    "neg_num = []\n",
    "for n in numbers:\n",
    "    if n < 0:\n",
    "        neg_num.append(n)\n",
    "print(neg_num)\n",
    "\n",
    "#numpy\n",
    "list(x[x < 0])"
   ]
  },
  {
   "cell_type": "code",
   "execution_count": 20,
   "id": "bff676aa",
   "metadata": {},
   "outputs": [
    {
     "name": "stdout",
     "output_type": "stream",
     "text": [
      "[10, 11, 13, 17, 19, 23, 256]\n",
      "[10, 11, 13, 17, 19, 23, 256]\n"
     ]
    },
    {
     "data": {
      "text/plain": [
       "[10, 11, 13, 17, 19, 23, 256]"
      ]
     },
     "execution_count": 20,
     "metadata": {},
     "output_type": "execute_result"
    }
   ],
   "source": [
    "##return numbers with two or more numerals from the list##\n",
    "\n",
    "#list comp\n",
    "two_or_more_numerals = [number for number in numbers if number > 9]\n",
    "print(two_or_more_numerals)\n",
    "\n",
    "#loop\n",
    "two_or_more_numer = []\n",
    "for number in numbers:\n",
    "    if number > 9:\n",
    "        two_or_more_numer.append(number)\n",
    "print(two_or_more_numer)\n",
    "\n",
    "#numpy\n",
    "list(x[x > 9])\n"
   ]
  },
  {
   "cell_type": "code",
   "execution_count": 22,
   "id": "cd4106f9",
   "metadata": {},
   "outputs": [
    {
     "name": "stdout",
     "output_type": "stream",
     "text": [
      "[4, 9, 16, 25, 36, 49, 64, 81, 100, 121, 169, 289, 361, 529, 65536, 64, 16, 4, 25, 81]\n",
      "[4, 9, 16, 25, 36, 49, 64, 81, 100, 121, 169, 289, 361, 529, 65536, 64, 16, 4, 25, 81]\n"
     ]
    },
    {
     "data": {
      "text/plain": [
       "array([    4,     9,    16,    25,    36,    49,    64,    81,   100,\n",
       "         121,   169,   289,   361,   529, 65536,    64,    16,     4,\n",
       "          25,    81])"
      ]
     },
     "execution_count": 22,
     "metadata": {},
     "output_type": "execute_result"
    }
   ],
   "source": [
    "##return the squared values of the numbers from the list##\n",
    "\n",
    "#list comp\n",
    "numbers_squared = [number * number for number in numbers]\n",
    "print(numbers_squared)\n",
    "\n",
    "#loop\n",
    "num_sq = []\n",
    "for number in numbers:\n",
    "    num_sq.append(number * number)\n",
    "print(num_sq)\n",
    "\n",
    "#numpy\n",
    "#list(x ** 2)\n",
    "x ** 2"
   ]
  },
  {
   "cell_type": "code",
   "execution_count": 23,
   "id": "fe98a6c7",
   "metadata": {},
   "outputs": [
    {
     "name": "stdout",
     "output_type": "stream",
     "text": [
      "[-9]\n",
      "[-9]\n"
     ]
    },
    {
     "data": {
      "text/plain": [
       "[-9]"
      ]
     },
     "execution_count": 23,
     "metadata": {},
     "output_type": "execute_result"
    }
   ],
   "source": [
    "##return the odd and negative numbers from the list##\n",
    "\n",
    "#list comp\n",
    "odd_negative_numbers = [number for number in numbers if number < 0 and number % 2 != 0]\n",
    "print(odd_negative_numbers)\n",
    "\n",
    "#loop\n",
    "odd_neg_nums = []\n",
    "for number in numbers:\n",
    "    if number < 0 and number % 2 !=0:\n",
    "        odd_neg_nums.append(number)\n",
    "print(odd_neg_nums)\n",
    "\n",
    "#numpy\n",
    "list(x[(x < 0) & (x % 2 == 1)])\n"
   ]
  },
  {
   "cell_type": "code",
   "execution_count": 24,
   "id": "2ae962df",
   "metadata": {},
   "outputs": [
    {
     "name": "stdout",
     "output_type": "stream",
     "text": [
      "[7, 8, 9, 10, 11, 12, 13, 14, 15, 16, 18, 22, 24, 28, 261, -3, 1, 3, 10, -4]\n",
      "[7, 8, 9, 10, 11, 12, 13, 14, 15, 16, 18, 22, 24, 28, 261, -3, 1, 3, 10, -4]\n"
     ]
    },
    {
     "data": {
      "text/plain": [
       "[7, 8, 9, 10, 11, 12, 13, 14, 15, 16, 18, 22, 24, 28, 261, -3, 1, 3, 10, -4]"
      ]
     },
     "execution_count": 24,
     "metadata": {},
     "output_type": "execute_result"
    }
   ],
   "source": [
    "##return the numbers from the list + 5##\n",
    "\n",
    "#list comp\n",
    "numbers_plus_five = [number + 5 for number in numbers]\n",
    "print(numbers_plus_five)\n",
    "\n",
    "#loop\n",
    "num_pls_5 = []\n",
    "for number in numbers:\n",
    "    num_pls_5.append(number + 5)\n",
    "print(num_pls_5)\n",
    "\n",
    "#numpy\n",
    "list(x + 5)\n"
   ]
  },
  {
   "cell_type": "code",
   "execution_count": null,
   "id": "8e5cfc63",
   "metadata": {},
   "outputs": [],
   "source": []
  }
 ],
 "metadata": {
  "kernelspec": {
   "display_name": "Python 3 (ipykernel)",
   "language": "python",
   "name": "python3"
  },
  "language_info": {
   "codemirror_mode": {
    "name": "ipython",
    "version": 3
   },
   "file_extension": ".py",
   "mimetype": "text/x-python",
   "name": "python",
   "nbconvert_exporter": "python",
   "pygments_lexer": "ipython3",
   "version": "3.9.7"
  }
 },
 "nbformat": 4,
 "nbformat_minor": 5
}
